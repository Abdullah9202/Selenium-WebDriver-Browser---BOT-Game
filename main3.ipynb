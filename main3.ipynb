{
 "cells": [
  {
   "cell_type": "markdown",
   "metadata": {},
   "source": [
    "# Scrapping the wikipedia using bs4"
   ]
  },
  {
   "cell_type": "code",
   "execution_count": null,
   "metadata": {},
   "outputs": [],
   "source": [
    "import bs4\n",
    "import requests\n",
    "\n",
    "WIKI_URL = \"https://en.wikipedia.org/wiki/Main_Page\"\n",
    "\n",
    "response = requests.get(url=WIKI_URL)\n",
    "soup = bs4.BeautifulSoup(response.text, 'html.parser')\n",
    "number_of_Article_English = soup.select_one(selector=\"div.mp-box div#mp-welcomecount div#articlecount a\")\n",
    "print(f\"Number of articles in english: {number_of_Article_English.text}\")\n"
   ]
  },
  {
   "cell_type": "markdown",
   "metadata": {},
   "source": [
    "# Scrapping the wikipedia using selenium"
   ]
  },
  {
   "cell_type": "code",
   "execution_count": null,
   "metadata": {},
   "outputs": [],
   "source": [
    "from selenium import webdriver\n",
    "from selenium.webdriver.common.by import By\n",
    "\n",
    "WIKI_URL = \"https://en.wikipedia.org/wiki/Main_Page\"\n",
    "# ChromeOptions\n",
    "chrome_options = webdriver.ChromeOptions()\n",
    "# Chrome_Driver\n",
    "chrome_Driver = webdriver.Chrome(options=chrome_options)\n",
    "# Making a request\n",
    "chrome_Driver.get(url=WIKI_URL)\n",
    "# Scrappnig\n",
    "# number_of_Article_English = chrome_Driver.find_element(By.ID, value=\"articlecount\")\n",
    "number_of_Article_English = chrome_Driver.find_element(By.CSS_SELECTOR, value=\"div.mp-box div#mp-welcomecount div#articlecount a\")\n",
    "print(f\"Number of article in English: {number_of_Article_English.text}\")\n",
    "\n",
    "# Closing\n",
    "chrome_Driver.close()"
   ]
  },
  {
   "cell_type": "markdown",
   "metadata": {},
   "source": [
    "# Clicking using selenium"
   ]
  },
  {
   "cell_type": "code",
   "execution_count": null,
   "metadata": {},
   "outputs": [],
   "source": [
    "from selenium import webdriver\n",
    "from selenium.webdriver.common.by import By\n",
    "\n",
    "WIKI_URL = \"https://en.wikipedia.org/wiki/Main_Page\"\n",
    "# ChromeOptions\n",
    "chrome_options = webdriver.ChromeOptions()\n",
    "# Chrome_Driver\n",
    "chrome_Driver = webdriver.Chrome(options=chrome_options)\n",
    "# Making a request\n",
    "chrome_Driver.get(url=WIKI_URL)\n",
    "# Clicking on a privacy policy link\n",
    "privacy_Policy_Link = chrome_Driver.find_element(By.LINK_TEXT, value=\"Privacy Policy\")\n",
    "privacy_Policy_Link.click()"
   ]
  },
  {
   "cell_type": "markdown",
   "metadata": {},
   "source": [
    "# Typing in the search bar using selenium"
   ]
  },
  {
   "cell_type": "code",
   "execution_count": null,
   "metadata": {},
   "outputs": [],
   "source": [
    "from selenium import webdriver\n",
    "from selenium.webdriver.common.by import By\n",
    "from selenium.webdriver.common.keys import Keys\n",
    "import time\n",
    "\n",
    "WIKI_URL = \"https://en.wikipedia.org/wiki/Main_Page\"\n",
    "# ChromeOptions\n",
    "chrome_options = webdriver.ChromeOptions()\n",
    "# Chrome_Driver\n",
    "chrome_Driver = webdriver.Chrome(options=chrome_options)\n",
    "# Maximizing the tab size\n",
    "chrome_Driver.maximize_window()\n",
    "# Making a request\n",
    "chrome_Driver.get(url=WIKI_URL)\n",
    "# Searching for search bar\n",
    "Wiki_search_Bar = chrome_Driver.find_element(By.NAME, value=\"search\")\n",
    "# Wiki_search_Bar = chrome_Driver.find_element(By.CSS_SELECTOR, value=\"div.vector-typeahead-search-container input.cdx-text-input__input\")\n",
    "# Inputting the data\n",
    "Wiki_search_Bar.send_keys(\"Islam\")\n",
    "# Pressing the enter\n",
    "Wiki_search_Bar.send_keys(Keys.ENTER)\n",
    "# 5 Seconds delay\n",
    "time.sleep(5)\n",
    "# Going back using main logo\n",
    "main_Logo = chrome_Driver.find_element(By.CSS_SELECTOR, value=\"div.vector-header-start a.mw-logo\")\n",
    "# Pressing the enter\n",
    "main_Logo.send_keys(Keys.ENTER)\n",
    "# Closing after 5 seconds\n",
    "time.sleep(5)\n",
    "chrome_Driver.close()\n",
    "\n"
   ]
  },
  {
   "cell_type": "markdown",
   "metadata": {},
   "source": [
    "# Filling the form with selenium"
   ]
  },
  {
   "cell_type": "code",
   "execution_count": null,
   "metadata": {},
   "outputs": [],
   "source": [
    "from selenium import webdriver\n",
    "from selenium.webdriver.common.by import By\n",
    "from selenium.webdriver.common.keys import Keys\n",
    "import time\n",
    "\n",
    "APP_BREWERY_URL = \"https://secure-retreat-92358.herokuapp.com/\"\n",
    "chrome_options = webdriver.ChromeOptions()\n",
    "chrome_Driver = webdriver.Chrome(options=chrome_options)\n",
    "chrome_Driver.maximize_window()\n",
    "chrome_Driver.get(url=APP_BREWERY_URL)\n",
    "f_Name_Bar = chrome_Driver.find_element(By.NAME, value=\"fName\")\n",
    "f_Name_Bar.send_keys(\"Abdullah\")\n",
    "time.sleep(1)\n",
    "l_Name_Bar = chrome_Driver.find_element(By.NAME, value=\"lName\")\n",
    "l_Name_Bar.send_keys(\"Khurram\")\n",
    "time.sleep(1)\n",
    "email_Bar = chrome_Driver.find_element(By.NAME, value=\"email\")\n",
    "email_Bar.send_keys(\"tempmail@gmail.com\")\n",
    "time.sleep(1)\n",
    "submit_Button = chrome_Driver.find_element(By.CLASS_NAME, value=\"btn-block\")\n",
    "submit_Button.send_keys(Keys.ENTER)\n",
    "time.sleep(5)\n",
    "chrome_Driver.close()"
   ]
  }
 ],
 "metadata": {
  "kernelspec": {
   "display_name": "Python 3",
   "language": "python",
   "name": "python3"
  },
  "language_info": {
   "codemirror_mode": {
    "name": "ipython",
    "version": 3
   },
   "file_extension": ".py",
   "mimetype": "text/x-python",
   "name": "python",
   "nbconvert_exporter": "python",
   "pygments_lexer": "ipython3",
   "version": "3.11.7"
  }
 },
 "nbformat": 4,
 "nbformat_minor": 2
}
