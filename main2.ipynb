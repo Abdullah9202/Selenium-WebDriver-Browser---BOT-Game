{
 "cells": [
  {
   "cell_type": "markdown",
   "metadata": {},
   "source": [
    "# Scrapping the py.org events"
   ]
  },
  {
   "cell_type": "code",
   "execution_count": 2,
   "metadata": {},
   "outputs": [
    {
     "name": "stdout",
     "output_type": "stream",
     "text": [
      "PyCon Somalia 2023 will be held on 2023-12-27\n",
      "Building Python Communities Around Python for Kids will be held on 2024-01-10\n",
      "Python Meeting Düsseldorf will be held on 2024-01-17\n",
      "Python Devroom @ FOSDEM 2024 will be held on 2024-02-04\n",
      "FOSDEM 2024: Python Devroom will be held on 2024-02-04\n"
     ]
    }
   ],
   "source": [
    "from selenium import webdriver\n",
    "from selenium.webdriver.common.by import By\n",
    "\n",
    "PY_URL = \"https://www.python.org\"\n",
    "\n",
    "# Setting up Chrome Options\n",
    "chrome_options = webdriver.ChromeOptions()\n",
    "# Setting up driver\n",
    "chrome_Driver = webdriver.Chrome(options=chrome_options)\n",
    "# Getting data\n",
    "chrome_Driver.get(url=PY_URL)\n",
    "\n",
    "# Getting the event times\n",
    "event_Times = chrome_Driver.find_elements(By.CSS_SELECTOR, value=\"div.event-widget time\")\n",
    "# Getting the event names\n",
    "event_Names = chrome_Driver.find_elements(By.CSS_SELECTOR, value=\"div.event-widget li a\")\n",
    "# Zipping the event time and name in one dictionary\n",
    "# Method 1\n",
    "# event_Dict = {index: {\"time\": evt.get_attribute(\"datetime\").split(\"T\")[0], \"event\": ev.text} for index, (evt, ev) in enumerate(zip(event_Times, event_Names))} \n",
    "# Method 2\n",
    "event_Dict = {}\n",
    "for n in range(len(event_Times)):\n",
    "    event_Dict[n] = {\n",
    "        \"time\": event_Times[n].get_attribute(\"datetime\").split(\"T\")[0],\n",
    "        \"event\": event_Names[n].text,\n",
    "    }\n",
    "\n",
    "for index in event_Dict:\n",
    "    print(f\"{event_Dict[index]['event']} will be held on {event_Dict[index]['time']}\")\n",
    "\n",
    "# for ev in event_Names:\n",
    "#     print(ev.text)\n",
    "\n",
    "# for evt in event_Times:\n",
    "#     print(evt.get_attribute(\"datetime\").split(\"T\")[0])\n",
    "    \n",
    "chrome_Driver.close()\n"
   ]
  }
 ],
 "metadata": {
  "kernelspec": {
   "display_name": "Python 3",
   "language": "python",
   "name": "python3"
  },
  "language_info": {
   "codemirror_mode": {
    "name": "ipython",
    "version": 3
   },
   "file_extension": ".py",
   "mimetype": "text/x-python",
   "name": "python",
   "nbconvert_exporter": "python",
   "pygments_lexer": "ipython3",
   "version": "3.11.6"
  }
 },
 "nbformat": 4,
 "nbformat_minor": 2
}
